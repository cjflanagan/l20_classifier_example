{
 "cells": [
  {
   "cell_type": "code",
   "execution_count": 1,
   "metadata": {
    "collapsed": false
   },
   "outputs": [
    {
     "name": "stdout",
     "output_type": "stream",
     "text": [
      "science         THE Queen last night toasted the UK s special relationship with the US and told Barack Obama how the ...\n",
      "technology      Flights in and out of Scotland have been cancelled as a volcanic ash cloud from Iceland heads toward ...\n",
      "technology      The volcanic ash cloud has cleared from the UK and now disrupts European airspace but forecasters pr ...\n",
      "science         President Barack Obama paid tribute to the extraordinary service the Queen has given to Britain and  ...\n",
      "politics        Barack Obama has indicated he would be prepared to launch another US raid into Pakistani territory i ...\n",
      "science         No decision has been made on whether to deploy UK Apache helicopters to Libya the government has sai ...\n",
      "sports          Hundreds of Twitter users have reacted to a footballer s bid to find out who is putting information  ...\n",
      "entertainment   Michael Owen is still hoping for a new contract with Manchester United but has given up hope of winn ...\n",
      "technology      Seventeen lost pyramids are among the buildings identified in a new satellite survey of Egypt n n n  ...\n",
      "health          A new paper claims that health services will be cut by almost 11 per cent over the next four years i ...\n",
      "business        Reuters The economy made a sluggish start to the year as an improved trade performance was more than ...\n",
      "entertainment   According to former Italy and Juventus coach Marcello Lippi who is a close friend of the Scot Fergus ...\n",
      "sports          Two RAF Typhoon pilots due to fly missions over Libya were sent back to the UK for inappropriate beh ...\n",
      "health          A British Airways pilot who believed he was stitched up by a prenuptial agreement was jailed for 26  ...\n",
      "sports          David Cameron is to resist calls for international regulation of the web by Nicolas Sarkozy at the G ...\n",
      "business        The west s leading economic thinktank warned the Bank of England on Wednesday that it would have to  ...\n",
      "science         The details of his private life emerged in the Daily Mail and The Sun after he failed in a bid to ob ...\n",
      "politics        There is a Slim Aarons photograph called Leisure and Fashion taken at the Colony Hotel in Palm Beach ...\n"
     ]
    }
   ],
   "source": [
    "\n",
    "import os\n",
    "import re\n",
    "import sys\n",
    "import json\n",
    "from itertools import izip\n",
    "\n",
    "from glob import glob\n",
    "from sklearn.externals import joblib\n",
    "from sklearn.datasets.base import Bunch\n",
    "\n",
    "import scraper\n",
    "\n",
    "\n",
    "def get_data(data_path):\n",
    "    \"\"\" Get training data from the articles folder. \"\"\"\n",
    "    all_data = []\n",
    "\n",
    "    for path in glob(os.path.join(data_path, '*.json')):\n",
    "        with open(path, 'r') as jsonfile:\n",
    "            data = json.loads(jsonfile.read())\n",
    "            for article in data.get('articles'):\n",
    "                all_data.extend([scraper.clean(article['content'])])\n",
    "\n",
    "    return Bunch(categories=scraper.CATEGORIES.keys(),\n",
    "                 values=None,\n",
    "                 data=all_data)\n",
    "\n",
    "\n",
    "def main(path):\n",
    "\n",
    "    # Get the latest .pkl\n",
    "    files = glob(os.path.join(path, '*.pkl'))\n",
    "    filename = max(files, key=lambda x: int(re.sub(r'\\D', '', x)))\n",
    "\n",
    "    # Check if the models exists\n",
    "    if not filename:\n",
    "        print \"No models found in %s\" % path\n",
    "        sys.exit(1)\n",
    "\n",
    "    # Load the models using the already generated .pkl file\n",
    "    model = joblib.load(filename)\n",
    "    data = get_data('input')\n",
    "    data_weighted = model['vectorizer'].transform(data.data)\n",
    "    data_weighted = model['feature_selection'].transform(data_weighted)\n",
    "    prediction = model['clf'].predict(data_weighted)\n",
    "\n",
    "    # Print the results\n",
    "    for text, prediction in izip(data.data, prediction):\n",
    "        print scraper.CATEGORIES.keys()[prediction].ljust(15, ' '), text[:100], '...'\n",
    "\n",
    "if __name__ == '__main__':\n",
    "    main('training')"
   ]
  },
  {
   "cell_type": "code",
   "execution_count": 23,
   "metadata": {
    "collapsed": false
   },
   "outputs": [],
   "source": [
    "files = glob(os.path.join('training', '*.pkl'))\n",
    "filename = max(files, key=lambda x: int(re.sub(r'\\D', '', x)))\n",
    "\n",
    "    # Check if the models exists\n",
    "if not filename:\n",
    "    print \"No models found in %s\" % path\n",
    "    sys.exit(1)\n",
    "\n",
    "# Load the models using the already generated .pkl file\n",
    "model = joblib.load(filename)\n",
    "data = get_data('input')"
   ]
  },
  {
   "cell_type": "code",
   "execution_count": 24,
   "metadata": {
    "collapsed": false
   },
   "outputs": [
    {
     "name": "stdout",
     "output_type": "stream",
     "text": [
      "science         THE Queen last night toasted the UK s special relationship with the US and told Barack Obama how the ...\n",
      "technology      Flights in and out of Scotland have been cancelled as a volcanic ash cloud from Iceland heads toward ...\n",
      "technology      The volcanic ash cloud has cleared from the UK and now disrupts European airspace but forecasters pr ...\n",
      "science         President Barack Obama paid tribute to the extraordinary service the Queen has given to Britain and  ...\n",
      "politics        Barack Obama has indicated he would be prepared to launch another US raid into Pakistani territory i ...\n",
      "science         No decision has been made on whether to deploy UK Apache helicopters to Libya the government has sai ...\n",
      "sports          Hundreds of Twitter users have reacted to a footballer s bid to find out who is putting information  ...\n",
      "entertainment   Michael Owen is still hoping for a new contract with Manchester United but has given up hope of winn ...\n",
      "technology      Seventeen lost pyramids are among the buildings identified in a new satellite survey of Egypt n n n  ...\n",
      "health          A new paper claims that health services will be cut by almost 11 per cent over the next four years i ...\n",
      "business        Reuters The economy made a sluggish start to the year as an improved trade performance was more than ...\n",
      "entertainment   According to former Italy and Juventus coach Marcello Lippi who is a close friend of the Scot Fergus ...\n",
      "sports          Two RAF Typhoon pilots due to fly missions over Libya were sent back to the UK for inappropriate beh ...\n",
      "health          A British Airways pilot who believed he was stitched up by a prenuptial agreement was jailed for 26  ...\n",
      "sports          David Cameron is to resist calls for international regulation of the web by Nicolas Sarkozy at the G ...\n",
      "business        The west s leading economic thinktank warned the Bank of England on Wednesday that it would have to  ...\n",
      "science         The details of his private life emerged in the Daily Mail and The Sun after he failed in a bid to ob ...\n",
      "politics        There is a Slim Aarons photograph called Leisure and Fashion taken at the Colony Hotel in Palm Beach ...\n"
     ]
    }
   ],
   "source": [
    "data_weighted = model['vectorizer'].transform(data.data)\n",
    "data_weighted = model['feature_selection'].transform(data_weighted)\n",
    "prediction = model['clf'].predict(data_weighted)\n",
    "\n",
    "    # Print the results\n",
    "for text, prediction in izip(data.data, prediction):\n",
    "        print scraper.CATEGORIES.keys()[prediction].ljust(15, ' '), text[:100], '...'\n"
   ]
  },
  {
   "cell_type": "code",
   "execution_count": null,
   "metadata": {
    "collapsed": true
   },
   "outputs": [],
   "source": []
  }
 ],
 "metadata": {
  "anaconda-cloud": {},
  "kernelspec": {
   "display_name": "Python [conda env:py2]",
   "language": "python",
   "name": "conda-env-py2-py"
  },
  "language_info": {
   "codemirror_mode": {
    "name": "ipython",
    "version": 2
   },
   "file_extension": ".py",
   "mimetype": "text/x-python",
   "name": "python",
   "nbconvert_exporter": "python",
   "pygments_lexer": "ipython2",
   "version": "2.7.12"
  }
 },
 "nbformat": 4,
 "nbformat_minor": 1
}
